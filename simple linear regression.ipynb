import pandas as pd
import numpy as np
import matplotlib.pyplot as plt
%matplotlib inline
from sklearn import linear_model
df = pd.read_csv(r"data\1_homeprices.csv")
df

plt.xlabel('Area (sq ft)')
plt.ylabel('Price (USD)')
plt.scatter(df['area'], df['price'], color='red', marker='+')

# Initializint model
model = linear_model.LinearRegression()
# Fitting data to model
model.fit(df[['area']], df['price'])

model.predict([[3300]])

model.predict([[2500]])

model.coef_

model.intercept_

area = 2500
m = model.coef_
b = model.intercept_
y = (m*area) + b

print('For a house of area', area, 'price will be:', y, "[Equation]")
print('For a house of area', area, 'price will be:', model.predict([[area]]), "[Model]")

areas = pd.read_csv(r"data\1_areas.csv")
areas.T

areas['Predicted Prices'] = model.predict(areas)
areas

# Save to file if True
if False:
    areas.to_csv(r'predicted house prices based on area.csv', index=False)

plt.xlabel('Area (sq ft)')
plt.ylabel('Price (USD)')
plt.scatter(df['area'], df['price'], color='red', marker='+')
plt.plot(df['area'], model.predict(df[['area']]))
